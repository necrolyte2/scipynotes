{
 "metadata": {
  "name": "Notes"
 },
 "nbformat": 3,
 "nbformat_minor": 0,
 "worksheets": [
  {
   "cells": [
    {
     "cell_type": "heading",
     "level": 1,
     "metadata": {},
     "source": [
      "Day 1"
     ]
    },
    {
     "cell_type": "heading",
     "level": 3,
     "metadata": {},
     "source": [
      "Summary"
     ]
    },
    {
     "cell_type": "markdown",
     "metadata": {},
     "source": [
      "The two tutorials for Day 1 focused mainly on using IPython and NumPy. These were more of an introduction on how to use these two things to do better visualizations and processing easily.\n",
      "\n",
      "* NumPy is a numerical library for python that focuses on doing array based mathematical operations.\n",
      "* IPython is a Python interpreter that not only runs Python code, but also provides an interface for running Python code interactively. It also supposedly has an easy interface for running Python in a cluster environment to speed up data processing.\n",
      "\n",
      "Currently we are using just the standard Python interpreter for all Python code in VDB, but I feel that we should highly consider switching to using IPython instead as it is aimed at 100% compatibility with the standard Python interpreter as well as providing some very useful functionality. AKA, this presentation is written 100% in IPython."
     ]
    },
    {
     "cell_type": "markdown",
     "metadata": {},
     "source": [
      "Set up this notebook to utilize pylab. This allows us to do really awesome things like inline dynamic graphs and the ability to use numpy."
     ]
    },
    {
     "cell_type": "code",
     "collapsed": false,
     "input": [
      "pylab"
     ],
     "language": "python",
     "metadata": {},
     "outputs": [
      {
       "output_type": "stream",
       "stream": "stdout",
       "text": [
        "\n",
        "Welcome to pylab, a matplotlib-based Python environment [backend: Qt4Agg].\n",
        "For more information, type 'help(pylab)'.\n"
       ]
      }
     ],
     "prompt_number": 2
    },
    {
     "cell_type": "heading",
     "level": 2,
     "metadata": {},
     "source": [
      "NumPy and IPython"
     ]
    },
    {
     "cell_type": "markdown",
     "metadata": {},
     "source": [
      "NumPy is a library of python modules that wrap around arrays/matices and such.\n",
      "It is basically THE way to speed up numerical operations in python"
     ]
    },
    {
     "cell_type": "markdown",
     "metadata": {},
     "source": [
      "Write:\n",
      "```\n",
      "0 0 0\n",
      "1 1 1\n",
      ". . .\n",
      "9 9 9\n",
      "```\n",
      "to a file called data.txt"
     ]
    },
    {
     "cell_type": "code",
     "collapsed": false,
     "input": [
      "with open( 'data.txt', 'w' ) as fh:\n",
      "    for i in range( 10 ):\n",
      "        fh.write( \"{} {}\\n\".format( i, i ) )"
     ],
     "language": "python",
     "metadata": {},
     "outputs": [],
     "prompt_number": 8
    },
    {
     "cell_type": "markdown",
     "metadata": {},
     "source": [
      "Read that file using NumPy. Note that you can pretty much us np.loadtxt to load any file that has a standard delimiter in it(TAB, COMMA, SPACE...)\n",
      "np.loadtxt will simply read each line and split it on that delimiter and then give back a 2D array of values that represet that file."
     ]
    },
    {
     "cell_type": "code",
     "collapsed": false,
     "input": [
      "data = np.loadtxt('data.txt')\n",
      "print data"
     ],
     "language": "python",
     "metadata": {},
     "outputs": [
      {
       "output_type": "stream",
       "stream": "stdout",
       "text": [
        "[[ 0.  0.]\n",
        " [ 1.  1.]\n",
        " [ 2.  2.]\n",
        " [ 3.  3.]\n",
        " [ 4.  4.]\n",
        " [ 5.  5.]\n",
        " [ 6.  6.]\n",
        " [ 7.  7.]\n",
        " [ 8.  8.]\n",
        " [ 9.  9.]]\n"
       ]
      }
     ],
     "prompt_number": 12
    },
    {
     "cell_type": "markdown",
     "metadata": {},
     "source": [
      "This next line tells this notebook to allow inline plots"
     ]
    },
    {
     "cell_type": "code",
     "collapsed": false,
     "input": [
      "%pylab inline"
     ],
     "language": "python",
     "metadata": {},
     "outputs": [
      {
       "output_type": "stream",
       "stream": "stdout",
       "text": [
        "\n",
        "Welcome to pylab, a matplotlib-based Python environment [backend: module://IPython.zmq.pylab.backend_inline].\n",
        "For more information, type 'help(pylab)'.\n"
       ]
      }
     ],
     "prompt_number": 13
    },
    {
     "cell_type": "markdown",
     "metadata": {},
     "source": [
      "Plot our data.txt file"
     ]
    },
    {
     "cell_type": "code",
     "collapsed": false,
     "input": [
      "plot( data )"
     ],
     "language": "python",
     "metadata": {},
     "outputs": [
      {
       "output_type": "pyout",
       "prompt_number": 13,
       "text": [
        "[<matplotlib.lines.Line2D at 0x2abab50>,\n",
        " <matplotlib.lines.Line2D at 0x2abab10>]"
       ]
      },
      {
       "output_type": "display_data",
       "png": "[encoded data removed]"
      }
     ],
     "prompt_number": 13
    },
    {
     "cell_type": "markdown",
     "metadata": {},
     "source": [
      "Transpose an array"
     ]
    },
    {
     "cell_type": "code",
     "collapsed": false,
     "input": [
      "a = np.array( [range( 1, 11 ), range( 11, 21 )] )\n",
      "print \"Original 2D Array created in the line above: {}\".format(a)\n",
      "print \"Array transposed: {}\".format(a.T)"
     ],
     "language": "python",
     "metadata": {},
     "outputs": [
      {
       "output_type": "stream",
       "stream": "stdout",
       "text": [
        "Original 2D Array created in the line above: [[ 1  2  3  4  5  6  7  8  9 10]\n",
        " [11 12 13 14 15 16 17 18 19 20]]\n",
        "Array transposed: [[ 1 11]\n",
        " [ 2 12]\n",
        " [ 3 13]\n",
        " [ 4 14]\n",
        " [ 5 15]\n",
        " [ 6 16]\n",
        " [ 7 17]\n",
        " [ 8 18]\n",
        " [ 9 19]\n",
        " [10 20]]\n"
       ]
      }
     ],
     "prompt_number": 14
    },
    {
     "cell_type": "markdown",
     "metadata": {},
     "source": [
      "Broadcasting. Aka, do things with arrays that are not the same dimension and/or size"
     ]
    },
    {
     "cell_type": "code",
     "collapsed": false,
     "input": [
      "x = np.array( [[1,2], [3,4]] )\n",
      "y = np.array( [5,6] )\n",
      "print \"X:\\n{}\".format(x)\n",
      "print \"Y:\\n{}\".format(y)"
     ],
     "language": "python",
     "metadata": {},
     "outputs": [
      {
       "output_type": "stream",
       "stream": "stdout",
       "text": [
        "X:\n",
        "[[1 2]\n",
        " [3 4]]\n",
        "Y:\n",
        "[5 6]\n"
       ]
      }
     ],
     "prompt_number": 22
    },
    {
     "cell_type": "markdown",
     "metadata": {},
     "source": [
      "Now it really doesn't make sense to add a 1D array to a 2D array right? Numpy arrays are smart though and will broadcast the 1D array against both dimensions of the 2D array.\n",
      "\n",
      "```[[ 1 + 5, 2 + 6],\n",
      " [ 3 + 5, 4 + 6]]```"
     ]
    },
    {
     "cell_type": "code",
     "collapsed": false,
     "input": [
      "y + x"
     ],
     "language": "python",
     "metadata": {},
     "outputs": [
      {
       "output_type": "pyout",
       "prompt_number": 12,
       "text": [
        "array([[ 6,  8],\n",
        "       [ 8, 10]])"
       ]
      }
     ],
     "prompt_number": 12
    },
    {
     "cell_type": "markdown",
     "metadata": {},
     "source": [
      "This isn't all that you can do either, it is almost magical what you can do with numpy arraysm"
     ]
    },
    {
     "cell_type": "code",
     "collapsed": false,
     "input": [
      "# Some big list of numbers(arange just gives you an array with values 0 -> 99 in an array)\n",
      "my_list = np.arange( 100 )\n",
      "# Make another list that is all the even numbers\n",
      "evens = np.arange(0, 100, 2)\n",
      "print \"my_list = {}...{}\".format(my_list[:5],my_list[95:])\n",
      "print \"evens = {}...{}\".format(evens[:5],evens[46:])\n",
      "# Now only give the even inexes inside of my_list\n",
      "my_list[evens]"
     ],
     "language": "python",
     "metadata": {},
     "outputs": [
      {
       "output_type": "stream",
       "stream": "stdout",
       "text": [
        "my_list = [0 1 2 3 4]...[95 96 97 98 99]\n",
        "evens = [0 2 4 6 8]...[92 94 96 98]\n"
       ]
      },
      {
       "output_type": "pyout",
       "prompt_number": 28,
       "text": [
        "array([ 0,  2,  4,  6,  8, 10, 12, 14, 16, 18, 20, 22, 24, 26, 28, 30, 32,\n",
        "       34, 36, 38, 40, 42, 44, 46, 48, 50, 52, 54, 56, 58, 60, 62, 64, 66,\n",
        "       68, 70, 72, 74, 76, 78, 80, 82, 84, 86, 88, 90, 92, 94, 96, 98])"
       ]
      }
     ],
     "prompt_number": 28
    },
    {
     "cell_type": "heading",
     "level": 2,
     "metadata": {},
     "source": [
      "IPython in Depth"
     ]
    },
    {
     "cell_type": "markdown",
     "metadata": {},
     "source": [
      "IPython is a replacement interpreter for the Python programming language. It builds upon the default Python interpreter and adds a bunch of more rich features. Below are some of the things that really stood out for me."
     ]
    },
    {
     "cell_type": "markdown",
     "metadata": {},
     "source": [
      "Run a command in the shell"
     ]
    },
    {
     "cell_type": "code",
     "collapsed": false,
     "input": [
      "!echo \"Some thing in the shell\""
     ],
     "language": "python",
     "metadata": {},
     "outputs": [
      {
       "output_type": "stream",
       "stream": "stdout",
       "text": [
        "Some thing in the shell\r\n"
       ]
      }
     ],
     "prompt_number": 1
    },
    {
     "cell_type": "markdown",
     "metadata": {},
     "source": [
      "Use the ls shell command to get a list of the current directories files and save it as a variable named file_list"
     ]
    },
    {
     "cell_type": "code",
     "collapsed": false,
     "input": [
      "file_list = !ls"
     ],
     "language": "python",
     "metadata": {},
     "outputs": [],
     "prompt_number": 29
    },
    {
     "cell_type": "markdown",
     "metadata": {},
     "source": [
      "Print the variable file_list using python print"
     ]
    },
    {
     "cell_type": "code",
     "collapsed": false,
     "input": [
      "print file_list"
     ],
     "language": "python",
     "metadata": {},
     "outputs": [
      {
       "output_type": "stream",
       "stream": "stdout",
       "text": [
        "['data.txt', 'Notes.ipynb']\n"
       ]
      }
     ],
     "prompt_number": 30
    },
    {
     "cell_type": "markdown",
     "metadata": {},
     "source": [
      "Holy cow! Print the variable as a shell variable"
     ]
    },
    {
     "cell_type": "code",
     "collapsed": false,
     "input": [
      "!echo $file_list"
     ],
     "language": "python",
     "metadata": {},
     "outputs": [
      {
       "output_type": "stream",
       "stream": "stdout",
       "text": [
        "[data.txt, Notes.ipynb]\r\n"
       ]
      }
     ],
     "prompt_number": 31
    },
    {
     "cell_type": "markdown",
     "metadata": {},
     "source": [
      "This is super powerful. The linux shell is amazingly powerful, but has some neuances that can drive a person mad. Python is super powerful, but you have to be a bit more specific and spend more time doing what a simple shell command could do.\n",
      "Being able to have one shell(IPython) that merges both together is a dream come true."
     ]
    },
    {
     "cell_type": "markdown",
     "metadata": {},
     "source": [
      "Now load code from anywhere and then run it!"
     ]
    },
    {
     "cell_type": "code",
     "collapsed": false,
     "input": [
      "%load http://matplotlib.org/examples/animation/histogram.py"
     ],
     "language": "python",
     "metadata": {},
     "outputs": []
    },
    {
     "cell_type": "markdown",
     "metadata": {},
     "source": [
      "Courtesy of MathJax, you can include mathematical expressions both inline: \n",
      "$e^{i\\pi} + 1 = 0$  and displayed:\n",
      "\n",
      "$$e^x=\\sum_{i=0}^\\infty \\frac{1}{i!}x^i$$"
     ]
    },
    {
     "cell_type": "markdown",
     "metadata": {},
     "source": [
      "Import other websites!"
     ]
    },
    {
     "cell_type": "code",
     "collapsed": false,
     "input": [
      "from IPython.display import HTML\n",
      "HTML('<iframe src=http://en.mobile.wikipedia.org/?useformat=mobile width=700 height=350></iframe>')"
     ],
     "language": "python",
     "metadata": {},
     "outputs": [
      {
       "html": [
        "<iframe src=http://en.mobile.wikipedia.org/?useformat=mobile width=700 height=350></iframe>"
       ],
       "output_type": "pyout",
       "prompt_number": 17,
       "text": [
        "<IPython.core.display.HTML at 0x31c5910>"
       ]
      }
     ],
     "prompt_number": 17
    },
    {
     "cell_type": "markdown",
     "metadata": {},
     "source": [
      "Embed an image from the web(Mmmm breakfast!)"
     ]
    },
    {
     "cell_type": "code",
     "collapsed": false,
     "input": [
      "from IPython.display import Image\n",
      "Image(url='http://lh3.googleusercontent.com/-2fcHcbFIgoA/UcmRQpDn5wI/AAAAAAAAMb4/JGSyeTqLQxs/s288/1372163351514.jpg')"
     ],
     "language": "python",
     "metadata": {},
     "outputs": [
      {
       "html": [
        "<img src=\"http://lh3.googleusercontent.com/-2fcHcbFIgoA/UcmRQpDn5wI/AAAAAAAAMb4/JGSyeTqLQxs/s288/1372163351514.jpg\" />"
       ],
       "output_type": "pyout",
       "prompt_number": 6,
       "text": [
        "<IPython.core.display.Image at 0x23d6d50>"
       ]
      }
     ],
     "prompt_number": 6
    },
    {
     "cell_type": "markdown",
     "metadata": {},
     "source": [
      "Embed a YouTube Video"
     ]
    },
    {
     "cell_type": "code",
     "collapsed": false,
     "input": [
      "from IPython.display import YouTubeVideo\n",
      "YouTubeVideo(id='2G5YTlheCbw')"
     ],
     "language": "python",
     "metadata": {},
     "outputs": [
      {
       "html": [
        "\n",
        "            <iframe\n",
        "                width=\"400\"\n",
        "                height=\"300\"\n",
        "                src=\"http://www.youtube.com/embed/2G5YTlheCbw\"\n",
        "                frameborder=\"0\"\n",
        "                allowfullscreen\n",
        "            ></iframe>\n",
        "        "
       ],
       "output_type": "pyout",
       "prompt_number": 11,
       "text": [
        "<IPython.lib.display.YouTubeVideo at 0x246e210>"
       ]
      }
     ],
     "prompt_number": 11
    },
    {
     "cell_type": "heading",
     "level": 1,
     "metadata": {},
     "source": [
      "Day 2"
     ]
    },
    {
     "cell_type": "heading",
     "level": 2,
     "metadata": {},
     "source": [
      "Version Control and Unittesting"
     ]
    },
    {
     "cell_type": "markdown",
     "metadata": {},
     "source": [
      "I am already quite familirar with most of the topics discussed here. It was very interesting during an exersise where whe broke into teams of four and then broke into sub teams of two. One of the sub teams programmed a simple function in python to calculate a the mean/average of a list of numbers. The other team programmed a unittest to test that function. Neither of the teams communicated with each other during that period. This really brought to the surface some interesting things:\n",
      "\n",
      "* No matter how much you think you understand a problem, other people think about it differently\n",
      "* What exactly is a \"list of numbers.\" More than just that, but a good example\n",
      "* Communication is critical between developers to define the \"contract\" of what you are developing on"
     ]
    },
    {
     "cell_type": "heading",
     "level": 2,
     "metadata": {},
     "source": [
      "Scikit-Learn (II)"
     ]
    },
    {
     "cell_type": "code",
     "collapsed": false,
     "input": [
      "print \"Test\""
     ],
     "language": "python",
     "metadata": {},
     "outputs": [
      {
       "output_type": "stream",
       "stream": "stdout",
       "text": [
        "Test\n"
       ]
      }
     ],
     "prompt_number": 32
    }
   ],
   "metadata": {}
  }
 ]
}